{
  "nbformat": 4,
  "nbformat_minor": 0,
  "metadata": {
    "colab": {
      "provenance": []
    },
    "kernelspec": {
      "name": "python3",
      "display_name": "Python 3"
    },
    "language_info": {
      "name": "python"
    }
  },
  "cells": [
    {
      "cell_type": "code",
      "execution_count": null,
      "metadata": {
        "id": "HikoZYsMXgnD"
      },
      "outputs": [],
      "source": []
    },
    {
      "cell_type": "markdown",
      "source": [
        "1. What is the difference between interpreted and compiled languages?\n",
        "   - Interpreted and compiled languages differ primarily in how they are executed by a computer. Compiled languages require a compiler to translate the entire source code into machine code before execution. This results in faster performance since the CPU can directly execute the compiled binary, but it also means that any code changes require recompilation. Examples include C, C++, and Rust, python. In contrast, interpreted languages use an interpreter to execute the code line by line at runtime, making them more flexible and easier to debug but generally slower in execution."
      ],
      "metadata": {
        "id": "MYJ4Bs4TXls_"
      }
    },
    {
      "cell_type": "markdown",
      "source": [
        "2. What is exception handling in Python?\n",
        "   - Exception handling in Python is a mechanism used to handle runtime errors gracefully, preventing programs from crashing unexpectedly. Python provides the try-except block to catch and handle exceptions, allowing the program to continue execution even if an error occurs.\n",
        "\n"
      ],
      "metadata": {
        "id": "EhfzXcVKYKR7"
      }
    },
    {
      "cell_type": "code",
      "source": [
        "# example of exceptional handling\n",
        "try:\n",
        "  10/0\n",
        "except Exception as e:\n",
        "  print(\"the error is\",e)"
      ],
      "metadata": {
        "colab": {
          "base_uri": "https://localhost:8080/"
        },
        "id": "u86eOlzeYiRD",
        "outputId": "36d8210b-ac12-4679-a015-1883a170b21c"
      },
      "execution_count": null,
      "outputs": [
        {
          "output_type": "stream",
          "name": "stdout",
          "text": [
            "the error is division by zero\n"
          ]
        }
      ]
    },
    {
      "cell_type": "markdown",
      "source": [
        "3. What is the purpose of the finally block in exception handling?\n",
        "   - The finally block in Python is used to define code that will always execute, regardless of whether an exception occurs or not. It is typically used for cleanup operations, such as closing files, releasing resources, or disconnecting from a database.\n",
        "\n"
      ],
      "metadata": {
        "id": "lXIVc5Y1Y2bM"
      }
    },
    {
      "cell_type": "code",
      "source": [
        "# example\n",
        "try:\n",
        "  10/0\n",
        "except ZeroDivisionError:\n",
        "  print(\"exception caught and handled\")\n",
        "finally:\n",
        "  print(\"block executed\")"
      ],
      "metadata": {
        "colab": {
          "base_uri": "https://localhost:8080/"
        },
        "id": "WkMzqfA5ZXwO",
        "outputId": "e6cabb02-2d74-415d-f9af-e4efb45ee724"
      },
      "execution_count": null,
      "outputs": [
        {
          "output_type": "stream",
          "name": "stdout",
          "text": [
            "exception caught and handled\n",
            "block executed\n"
          ]
        }
      ]
    },
    {
      "cell_type": "markdown",
      "source": [
        "4. What is logging in Python?\n",
        "   - Logging in Python is a way to track events that happen during program execution. It helps in debugging, monitoring, and troubleshooting applications by recording messages about events, errors, and other runtime information."
      ],
      "metadata": {
        "id": "BRvc5VFbaQI9"
      }
    },
    {
      "cell_type": "code",
      "source": [
        "\n",
        "#Logging in Python is a way to track events that happen during program execution. It helps in debugging, monitoring, and troubleshooting applications by recording messages about events, errors, and other runtime information.\n",
        "import logging\n",
        "logging.basicConfig(filename=\"test.log\",level=logging.INFO)\n",
        "logging.info(\"log this line of execution\")\n",
        "\n",
        "import logging\n",
        "\n",
        "logging.basicConfig(level=logging.DEBUG)\n",
        "\n",
        "logging.debug(\"This is a debug message.\")\n",
        "logging.info(\"This is an info message.\")\n",
        "logging.warning(\"This is a warning.\")\n",
        "logging.error(\"This is an error.\")\n",
        "logging.critical(\"This is a critical error.\")\n",
        "\n"
      ],
      "metadata": {
        "colab": {
          "base_uri": "https://localhost:8080/"
        },
        "id": "sZtDHccSbQXF",
        "outputId": "85834fb6-e31f-46d0-da1e-8a8faac27837"
      },
      "execution_count": null,
      "outputs": [
        {
          "output_type": "stream",
          "name": "stderr",
          "text": [
            "WARNING:root:This is a warning.\n",
            "ERROR:root:This is an error.\n",
            "CRITICAL:root:This is a critical error.\n"
          ]
        }
      ]
    },
    {
      "cell_type": "markdown",
      "source": [
        "5. What is the significance of the __del__ method in Python?\n",
        "   - The __del__ method in Python is a destructor that is called when an object is about to be destroyed (i.e., when there are no more references to it). It is used to perform cleanup operations, such as closing files, releasing network connections, or freeing resources before the object is deleted from memory.\n",
        "\n"
      ],
      "metadata": {
        "id": "JhzsOTmQcaYv"
      }
    },
    {
      "cell_type": "code",
      "source": [
        "class Example:\n",
        "    def __init__(self, name):\n",
        "        self.name = name\n",
        "        print(\"object created\")\n",
        "\n",
        "    def __del__(self):\n",
        "        print(\"object detsroyed\")\n",
        "obj=Example(\"akanksha\")\n",
        "del obj\n",
        "\n"
      ],
      "metadata": {
        "colab": {
          "base_uri": "https://localhost:8080/"
        },
        "id": "xhRFrunZcpk_",
        "outputId": "0ed7374b-a27d-4bc2-f40d-7feae3dfa69a"
      },
      "execution_count": null,
      "outputs": [
        {
          "output_type": "stream",
          "name": "stdout",
          "text": [
            "object created\n",
            "object detsroyed\n",
            "object detsroyed\n"
          ]
        }
      ]
    },
    {
      "cell_type": "code",
      "source": [
        "# 6. Python provides two common ways to import modules:\n",
        "\n",
        "#import module_name\n",
        "#from module_name import specific_function_or_class\n",
        "\n",
        "import math\n",
        "print(math.sqrt(16))  # Accessing sqrt() using module name\n",
        "\n",
        "from math import sqrt\n",
        "print(sqrt(16))  # No need to use math.sqrt()\n"
      ],
      "metadata": {
        "colab": {
          "base_uri": "https://localhost:8080/"
        },
        "id": "bCLh6M-dfP8I",
        "outputId": "095894d1-52eb-4bb1-d5a4-cb9eb18a8c73"
      },
      "execution_count": null,
      "outputs": [
        {
          "output_type": "stream",
          "name": "stdout",
          "text": [
            "4.0\n",
            "4.0\n"
          ]
        }
      ]
    },
    {
      "cell_type": "code",
      "source": [
        " # 7. F How can you handle multiple exceptions in Python?\n",
        " # we can handle different exceptions separately by specifying multiple except blocks.\n",
        "\n",
        "try:\n",
        "  num=int(input(\"enter your number\"))\n",
        "  result=10/num\n",
        "  print(num)\n",
        "except ZeroDivisionError:\n",
        "  print(\"cannot divide by zero\")\n",
        "except ValueError:\n",
        "  print(\"invalid input\")"
      ],
      "metadata": {
        "colab": {
          "base_uri": "https://localhost:8080/"
        },
        "id": "k2yYEOmMf1oj",
        "outputId": "16869701-289b-4894-f331-99b081d01450"
      },
      "execution_count": null,
      "outputs": [
        {
          "output_type": "stream",
          "name": "stdout",
          "text": [
            "enter your number0\n",
            "cannot divide by zero\n"
          ]
        }
      ]
    },
    {
      "cell_type": "code",
      "source": [
        "try:\n",
        "  num=int(input(\"enter your number\"))\n",
        "  result=10/num\n",
        "  print(num)\n",
        "except ZeroDivisionError:\n",
        "  print(\"cannot divide by zero\")\n",
        "except ValueError:\n",
        "  print(\"invalid input\")"
      ],
      "metadata": {
        "colab": {
          "base_uri": "https://localhost:8080/"
        },
        "id": "M_boDqxPg_dS",
        "outputId": "8ae65c6c-4ebd-4b2d-9343-a35806b2be20"
      },
      "execution_count": null,
      "outputs": [
        {
          "output_type": "stream",
          "name": "stdout",
          "text": [
            "enter your number\"5\"\n",
            "invalid input\n"
          ]
        }
      ]
    },
    {
      "cell_type": "code",
      "source": [
        "# 8. purpose of with statement in python handling\n",
        "# The with statement in Python is used to handle file operations safely and efficiently by automatically managing resources like file closing. It ensures that files are properly closed after operations, even if an exception occurs. with open(\"example.txt\",\"w\") as f\n",
        "\n",
        "with open(\"example.txt\",\"w\")as f:\n",
        "  f.write(\"this is a sample file\")"
      ],
      "metadata": {
        "id": "1A7Az8gwhLh0"
      },
      "execution_count": null,
      "outputs": []
    },
    {
      "cell_type": "markdown",
      "source": [
        "9. What is the difference between multithreading and multiprocessing?\n",
        "  - Multithreading allows a program to run multiple threads within the same process, sharing memory and resources. However, due to Python’s Global Interpreter Lock (GIL), threads do not execute truly in parallel in CPU-bound tasks.\n",
        "\n",
        "      Multiprocessing creates separate processes, each with its own memory space, allowing true parallel execution. Since each process has its own Python interpreter, the GIL is bypassed."
      ],
      "metadata": {
        "id": "SbJMr4EciIpD"
      }
    },
    {
      "cell_type": "code",
      "source": [
        "import threading\n",
        "\n",
        "def print_numbers():\n",
        "    for i in range(5):\n",
        "        print(i)\n",
        "\n",
        "thread1 = threading.Thread(target=print_numbers)\n",
        "thread2 = threading.Thread(target=print_numbers)\n",
        "\n",
        "thread1.start()\n",
        "thread2.start()\n",
        "\n",
        "thread1.join()\n",
        "thread2.join()\n"
      ],
      "metadata": {
        "colab": {
          "base_uri": "https://localhost:8080/"
        },
        "id": "ayYVoPcxkHV5",
        "outputId": "3495a78b-5e3f-4494-d661-4efd1cdad9b6"
      },
      "execution_count": null,
      "outputs": [
        {
          "output_type": "stream",
          "name": "stdout",
          "text": [
            "0\n",
            "1\n",
            "2\n",
            "3\n",
            "4\n",
            "0\n",
            "1\n",
            "2\n",
            "3\n",
            "4\n"
          ]
        }
      ]
    },
    {
      "cell_type": "code",
      "source": [
        "import multiprocessing\n",
        "\n",
        "def print_numbers():\n",
        "    for i in range(5):\n",
        "        print(i)\n",
        "\n",
        "process1 = multiprocessing.Process(target=print_numbers)\n",
        "process2 = multiprocessing.Process(target=print_numbers)\n",
        "\n",
        "process1.start()\n",
        "process2.start()\n",
        "\n",
        "process1.join()\n",
        "process2.join()\n"
      ],
      "metadata": {
        "colab": {
          "base_uri": "https://localhost:8080/"
        },
        "id": "1RzXPzHJkg6l",
        "outputId": "8c139b29-aed7-4351-d52b-0c09538b2a20"
      },
      "execution_count": null,
      "outputs": [
        {
          "output_type": "stream",
          "name": "stdout",
          "text": [
            "0\n",
            "10\n",
            "2\n",
            "\n",
            "31\n",
            "4\n",
            "\n",
            "2\n",
            "3\n",
            "4\n"
          ]
        }
      ]
    },
    {
      "cell_type": "markdown",
      "source": [
        "10. What are the advantages of using logging in a programming?\n",
        "   - Logging is a powerful tool that provides numerous benefits during the development, debugging, and maintenance of software.Using logging instead of just relying on print() statements or ignoring errors provides significant advantages, including better error handling, performance monitoring, debugging, and system auditing. It ensures that your software is more reliable, maintainable, and scalable, especially in production environments."
      ],
      "metadata": {
        "id": "Nlw3eJDMkreG"
      }
    },
    {
      "cell_type": "markdown",
      "source": [
        "11. What is memory management in Python?\n",
        "   - Memory management in Python refers to the process of managing the allocation, use, and deallocation of memory during the execution of a Python program. Python has an automatic memory management system, meaning the programmer doesn't have to manually manage memory allocation and deallocation. However, understanding how it works can help optimize your programs for efficiency and performance.\n",
        "\n"
      ],
      "metadata": {
        "id": "y5A5-jvIlKJn"
      }
    },
    {
      "cell_type": "markdown",
      "source": [
        "12. What are the basic steps involved in exception handling in Python?\n",
        "  - Exception handling in Python is a mechanism to handle runtime errors (exceptions) so that the program can continue its execution or fail gracefully. Python provides a set of keywords for handling exceptions. Below are the basic steps involved:\n",
        "\n"
      ],
      "metadata": {
        "id": "3svEUddLlpjD"
      }
    },
    {
      "cell_type": "code",
      "source": [
        "try:\n",
        "    num = int(input(\"Enter a number: \"))\n",
        "    result = 10 / num\n",
        "except ZeroDivisionError:\n",
        "    print(\"Error: Cannot divide by zero.\")\n",
        "except ValueError:\n",
        "    print(\"Error: Invalid input, please enter a number.\")\n"
      ],
      "metadata": {
        "colab": {
          "base_uri": "https://localhost:8080/"
        },
        "id": "BbYzSfMcmJb8",
        "outputId": "c671f433-7578-4d20-947a-d90e42875106"
      },
      "execution_count": null,
      "outputs": [
        {
          "output_type": "stream",
          "name": "stdout",
          "text": [
            "Enter a number: 0\n",
            "Error: Cannot divide by zero.\n"
          ]
        }
      ]
    },
    {
      "cell_type": "code",
      "source": [
        "try:\n",
        "    file = open(\"practice.txt\", \"r\")\n",
        "    file.close()\n",
        "except FileNotFoundError:\n",
        "    print(\"Error: File not found.\")\n",
        "finally:\n",
        "    print(\"Cleaning up resources.\")\n",
        "\n"
      ],
      "metadata": {
        "colab": {
          "base_uri": "https://localhost:8080/"
        },
        "id": "kHqmpFSln1pQ",
        "outputId": "8c5197f0-0117-426d-b4f0-e9193bd67088"
      },
      "execution_count": null,
      "outputs": [
        {
          "output_type": "stream",
          "name": "stdout",
          "text": [
            "Error: File not found.\n",
            "Cleaning up resources.\n"
          ]
        }
      ]
    },
    {
      "cell_type": "markdown",
      "source": [
        "13.  Why is memory management important in Python?\n",
        "   - Memory management plays a critical role in the performance, stability, and efficiency of Python programs. Proper management ensures that resources are used effectively, leading to improved performance and reduced risk of memory-related issues. Here are the key reasons why memory management is important in Python:\n",
        "\n"
      ],
      "metadata": {
        "id": "rXrvox17ox7T"
      }
    },
    {
      "cell_type": "markdown",
      "source": [
        "14. What is the role of try and except in exception handling?\n",
        "   - In Python, try and except are the fundamental keywords used to handle exceptions. These keywords allow you to catch and handle runtime errors (exceptions) that may occur during the execution of your program. They help in ensuring that your program can continue running smoothly even when errors occur, without crashing or stopping unexpectedly.\n",
        "\n"
      ],
      "metadata": {
        "id": "EKCg2F03pjdG"
      }
    },
    {
      "cell_type": "code",
      "source": [
        "try:\n",
        "  10/0\n",
        "except ZeroDivisionError:\n",
        "  print(\"cannot divide by zero\")\n",
        "finally:\n",
        "  print(\"this block wil always excecute\")"
      ],
      "metadata": {
        "colab": {
          "base_uri": "https://localhost:8080/"
        },
        "id": "SwXjQV_lp8vc",
        "outputId": "7640304a-a7eb-472a-df75-2f150ab5d863"
      },
      "execution_count": null,
      "outputs": [
        {
          "output_type": "stream",
          "name": "stdout",
          "text": [
            "cannot divide by zero\n",
            "this block wil always excecute\n"
          ]
        }
      ]
    },
    {
      "cell_type": "markdown",
      "source": [
        "15.  How does Python's garbage collection system work?\n",
        "   - Python’s garbage collection (GC) system is responsible for automatically managing memory, ensuring that unused objects are cleaned up and their memory is freed. This system helps avoid memory leaks and ensures that the program can run efficiently without manual intervention. It ensures that memory is efficiently managed, minimizing memory leaks and allowing programs to run smoothly without manual intervention. Understanding how it works can help optimize your code, especially when working with large datasets or long-running applications."
      ],
      "metadata": {
        "id": "EPAShcNQqby9"
      }
    },
    {
      "cell_type": "code",
      "source": [
        "# What is the purpose of the else block in exception handling?\n",
        " # In Python, the else block is an optional part of the exception handling mechanism that can be used to execute code only if no exception is raised in the corresponding try block. It is designed to provide a clean way to separate the code that should run when an exception doesn't occur, making the program flow clearer and more structured.\n",
        "try:\n",
        "  10/2\n",
        "except ZeroDivisionError:\n",
        "  print(\"cannot divide by zero\")\n",
        "else:\n",
        "  print(\"no exception occured\")"
      ],
      "metadata": {
        "colab": {
          "base_uri": "https://localhost:8080/"
        },
        "id": "aWEedDhrrfaz",
        "outputId": "48be982c-ea64-4f3c-f73d-88205fb0f5ac"
      },
      "execution_count": null,
      "outputs": [
        {
          "output_type": "stream",
          "name": "stdout",
          "text": [
            "no exception occured\n"
          ]
        }
      ]
    },
    {
      "cell_type": "code",
      "source": [
        "# 16. What are the common logging levels in Python?\n",
        "#Logging in Python is a way to track events that happen during program execution. It helps in debugging, monitoring, and troubleshooting applications by recording messages about events, errors, and other runtime information.\n",
        "\n",
        "import logging\n",
        "\n",
        "logging.basicConfig(level=logging.DEBUG)\n",
        "\n",
        "logging.debug(\"This is a debug message.\")\n",
        "logging.info(\"This is an info message.\")\n",
        "logging.warning(\"This is a warning.\")\n",
        "logging.error(\"This is an error.\")\n",
        "logging.critical(\"This is a critical error.\")\n",
        "\n",
        "\n"
      ],
      "metadata": {
        "colab": {
          "base_uri": "https://localhost:8080/"
        },
        "id": "60l0bsDfuaAW",
        "outputId": "0eb41eed-fe2b-4dc0-cbb3-e4f05882d23a"
      },
      "execution_count": null,
      "outputs": [
        {
          "output_type": "stream",
          "name": "stderr",
          "text": [
            "WARNING:root:This is a warning.\n",
            "ERROR:root:This is an error.\n",
            "CRITICAL:root:This is a critical error.\n"
          ]
        }
      ]
    },
    {
      "cell_type": "markdown",
      "source": [
        "18. What is the difference between os.fork() and multiprocessing in Python?\n",
        "   - n Python, both os.fork() and multiprocessing are used to create new processes, but they have significant differences in terms of functionality, ease of use, and compatibility with Python's global interpreter lock (GIL).\n",
        "\n",
        "     The os.fork() function is used to create a new child process by duplicating the calling (parent) process. The new process is a copy of the parent process, except for the returned value.\n",
        "     \n",
        "     The multiprocessing module provides a high-level API for creating and managing processes, allowing you to write concurrent programs in Python. It supports process-based parallelism and can be used for both CPU-bound and I/O-bound tasks."
      ],
      "metadata": {
        "id": "BF6Ky0OTwEij"
      }
    },
    {
      "cell_type": "markdown",
      "source": [
        "19. What is the importance of closing a file in Python?\n",
        "   - Closing a file in Python is crucial for efficient resource management and data integrity. When a file is opened, the system allocates resources such as memory and file descriptors to manage the file. If the file is not properly closed, these resources may not be released, leading to resource leaks and potential issues like running out of file handles. Additionally, when writing to a file, Python often uses a buffer to hold data temporarily before writing it to disk. Failing to close the file can result in data loss, as any unflushed data in the buffer may not be written to the file. Closing the file ensures that all changes are properly saved and the file is fully written. It also helps avoid file corruption, prevents memory leaks, and allows the file to be accessed by other processes. Using the with statement provides an automatic and safer way to close files, ensuring that they are always properly closed, even if an error occurs during file operations."
      ],
      "metadata": {
        "id": "YSpnEo0cw3Lj"
      }
    },
    {
      "cell_type": "code",
      "source": [
        "# 20. What is the difference between file.read() and file.readline() in Python?\n",
        "# file.read() reads the entire contents of the file as a single string. It reads all characters from the current file pointer until the end of the file (EOF).\n",
        "# file.readline() reads one line from the file at a time. It returns the line as a string, including the newline character (\\n) at the end of the line (unless it's the last line of the file).\n",
        "\n",
        "with open (\"practice.txt\",\"w\") as f:\n",
        "  f.write(\"this is my first line\")"
      ],
      "metadata": {
        "id": "FznkvGgixsPv"
      },
      "execution_count": null,
      "outputs": []
    },
    {
      "cell_type": "code",
      "source": [
        "with open (\"practice.txt\",\"r\")as f:\n",
        "  data= f.read(5)\n",
        "  print(data)"
      ],
      "metadata": {
        "colab": {
          "base_uri": "https://localhost:8080/"
        },
        "id": "R4x9lTM50mzc",
        "outputId": "3285340f-40a8-4629-e8df-2b932d0db232"
      },
      "execution_count": null,
      "outputs": [
        {
          "output_type": "stream",
          "name": "stdout",
          "text": [
            "this \n"
          ]
        }
      ]
    },
    {
      "cell_type": "code",
      "source": [
        "with open (\"practice.txt\",\"r\") as f:\n",
        "  print(f.readline())"
      ],
      "metadata": {
        "colab": {
          "base_uri": "https://localhost:8080/"
        },
        "id": "zzN6IPoN12xA",
        "outputId": "c9ccbdb0-a588-4eb9-9678-d6cbc19dab61"
      },
      "execution_count": null,
      "outputs": [
        {
          "output_type": "stream",
          "name": "stdout",
          "text": [
            "this is my first line\n"
          ]
        }
      ]
    },
    {
      "cell_type": "markdown",
      "source": [
        "21. What is the logging module in Python used for?\n",
        "   - The logging module in Python is used for tracking events that happen while a program is running. It allows developers to write log messages to various output destinations, such as the console, files, or even remote servers. This helps in debugging, monitoring, and maintaining applications by providing a detailed record of program behavior, errors, and other relevant events."
      ],
      "metadata": {
        "id": "7F8lvm2s1Gpu"
      }
    },
    {
      "cell_type": "code",
      "source": [
        "import logging\n",
        "\n",
        "logging.basicConfig(level=logging.DEBUG)\n",
        "\n",
        "logging.debug(\"This is a debug message.\")\n",
        "logging.info(\"This is an info message.\")\n",
        "logging.warning(\"This is a warning.\")\n",
        "logging.error(\"This is an error.\")\n",
        "logging.critical(\"This is a critical error.\")\n"
      ],
      "metadata": {
        "colab": {
          "base_uri": "https://localhost:8080/"
        },
        "id": "O8IeY2VR1p3H",
        "outputId": "50d78286-b919-4547-cead-0d76c279678a"
      },
      "execution_count": null,
      "outputs": [
        {
          "output_type": "stream",
          "name": "stderr",
          "text": [
            "WARNING:root:This is a warning.\n",
            "ERROR:root:This is an error.\n",
            "CRITICAL:root:This is a critical error.\n"
          ]
        }
      ]
    },
    {
      "cell_type": "markdown",
      "source": [
        "22. What is the os module in Python used for in file handling?\n",
        "   - The os module in Python is a versatile module that provides a way to interact with the operating system. When it comes to file handling, the os module offers a variety of functions to work with files and directories, helping you manage and manipulate the filesystem effectively.\n"
      ],
      "metadata": {
        "id": "4mDSia292MjK"
      }
    },
    {
      "cell_type": "code",
      "source": [
        "#os.mkdir(path): Creates a new directory at the specified path.\n",
        "#os.makedirs(path): Creates a directory and any intermediate directories that do not exist, which is useful when you need to create nested directories.\n",
        "#os.open(): Allows you to open a file using low-level OS calls. It is typically used for more advanced file handling operations."
      ],
      "metadata": {
        "id": "2qcIswgg3Nrp"
      },
      "execution_count": null,
      "outputs": []
    },
    {
      "cell_type": "markdown",
      "source": [
        "23. What are the challenges associated with memory management in Python?\n",
        "   - Memory management in Python, though largely automated with reference counting and garbage collection, comes with several challenges.Python objects have significant overhead due to the need for metadata, making the language less efficient for managing large numbers of small objects. Additionally, memory fragmentation can occur in long-running programs, impacting performance.\n",
        "   \n",
        "     The garbage collector struggles with managing large objects, and unintended references can lead to memory leaks. Immutable objects, which create new instances on modification, can also consume excessive memory. Furthermore, Python lacks the fine-grained control over memory management seen in languages like C. These issues require developers to actively monitor and optimize memory usage using profiling tools.\n",
        "\n",
        "\n",
        "\n",
        "\n",
        "\n",
        "\n",
        "\n"
      ],
      "metadata": {
        "id": "ynEyTCr03ntP"
      }
    },
    {
      "cell_type": "markdown",
      "source": [
        "24. How do you raise an exception manually in Python?\n",
        "   - In Python, you can raise an exception manually using the raise keyword. This allows you to trigger an exception in your code when certain conditions are met. You can raise either a built-in exception or a custom exception."
      ],
      "metadata": {
        "id": "8a_7kt_i4loF"
      }
    },
    {
      "cell_type": "code",
      "source": [
        "def divide(a, b):\n",
        "    if b == 0:\n",
        "        raise ZeroDivisionError(\"Cannot divide by zero!\")\n",
        "    return a / b\n",
        "\n",
        "try:\n",
        "    result = divide(10, 0)\n",
        "except ZeroDivisionError as e:\n",
        "    print(f\"Error: {e}\")\n"
      ],
      "metadata": {
        "colab": {
          "base_uri": "https://localhost:8080/"
        },
        "id": "1VhGU0vG5Et7",
        "outputId": "34744fe1-b1b6-4a55-c173-dc65b6f45651"
      },
      "execution_count": null,
      "outputs": [
        {
          "output_type": "stream",
          "name": "stdout",
          "text": [
            "Error: Cannot divide by zero!\n"
          ]
        }
      ]
    },
    {
      "cell_type": "markdown",
      "source": [
        "25.  Why is it important to use multithreading in certain applications?\n",
        "   - Using multithreading in certain applications is important because it allows you to perform multiple tasks concurrently, improving performance, responsiveness, and efficiency, particularly in applications that involve I/O-bound or long-running tasks,high-concurrency systems, or parallelizable workloads. However, it requires careful management of shared resources to avoid issues like race conditions and deadlocks."
      ],
      "metadata": {
        "id": "Gx8PHoXu5WHj"
      }
    },
    {
      "cell_type": "code",
      "source": [
        "#1\n",
        "with open (\"file.txt\",\"w\")as f:\n",
        "  f.write(\"i am learning pyhton language\")"
      ],
      "metadata": {
        "id": "y2uF9hzy63yM"
      },
      "execution_count": null,
      "outputs": []
    },
    {
      "cell_type": "code",
      "source": [
        "with open(\"file.txt\",\"r\")as f:\n",
        "  data=f.read()\n",
        "  print(data)"
      ],
      "metadata": {
        "colab": {
          "base_uri": "https://localhost:8080/"
        },
        "id": "qd3ho6HJ7Lys",
        "outputId": "a272c737-773f-420c-97af-559451ba944e"
      },
      "execution_count": null,
      "outputs": [
        {
          "output_type": "stream",
          "name": "stdout",
          "text": [
            "i am learning pyhton language\n"
          ]
        }
      ]
    },
    {
      "cell_type": "code",
      "source": [
        "#2\n",
        "with open(\"file.txt\",\"w\")as f:\n",
        "  f.write(\"this is my first line\\n\")\n",
        "  f.write(\"this is my second line\\n\")\n",
        "  f.write(\"this is my third line\\n\")\n",
        "  f.write(\"this is my fourth line\\n\")"
      ],
      "metadata": {
        "id": "MDYMQTct7ot4"
      },
      "execution_count": null,
      "outputs": []
    },
    {
      "cell_type": "code",
      "source": [
        "with open (\"file.txt\",\"r\")as f:\n",
        "  print(f.read())"
      ],
      "metadata": {
        "colab": {
          "base_uri": "https://localhost:8080/"
        },
        "id": "SS7PnJ1I8DQh",
        "outputId": "a36cd895-80bd-40a4-c6ff-81e33c27f36c"
      },
      "execution_count": null,
      "outputs": [
        {
          "output_type": "stream",
          "name": "stdout",
          "text": [
            "this is my first line\n",
            "this is my second line\n",
            "this is my third line\n",
            "this is my fourth line\n",
            "\n"
          ]
        }
      ]
    },
    {
      "cell_type": "code",
      "source": [
        "#3\n",
        "# When trying to open a file for reading in Python, if the file doesn't exist, it will raise a FileNotFoundError. To handle this case gracefully, you can use a try-except block to catch the exception and provide an appropriate response\n",
        "try:\n",
        "    with open(\"example.txt\", \"r\") as file:\n",
        "        content = file.read()\n",
        "        print(content)\n",
        "except FileNotFoundError:\n",
        "    print(\"The file does not exist.\")\n",
        "\n"
      ],
      "metadata": {
        "colab": {
          "base_uri": "https://localhost:8080/"
        },
        "id": "BPvUBNuc8Pj4",
        "outputId": "89bef910-d3b9-4ef7-b519-f3ec73721927"
      },
      "execution_count": null,
      "outputs": [
        {
          "output_type": "stream",
          "name": "stdout",
          "text": [
            "The file does not exist.\n"
          ]
        }
      ]
    },
    {
      "cell_type": "code",
      "source": [
        "# 4\n",
        "\n",
        "source_file = \"source.txt\"\n",
        "destination_file = \"destination.txt\"\n",
        "\n",
        "try:\n",
        "    # Open the source file in read mode\n",
        "    with open(source_file, \"r\") as src:\n",
        "        content = src.read()  # Read the content of the source file\n",
        "\n",
        "    # Open the destination file in write mode\n",
        "    with open(destination_file, \"w\") as dest:\n",
        "        dest.write(content)  # Write the content to the destination file\n",
        "\n",
        "    print(\"Content successfully copied from {} to {}.\".format(source_file, destination_file))\n",
        "\n",
        "except FileNotFoundError:\n",
        "    print(f\"Error: {source_file} not found.\")\n",
        "except IOError as e:\n",
        "    print(f\"Error: {e}\")\n"
      ],
      "metadata": {
        "colab": {
          "base_uri": "https://localhost:8080/"
        },
        "id": "O4HFX1fN9etq",
        "outputId": "431d3b70-8b8c-48fc-b3e6-b342850bb31a"
      },
      "execution_count": null,
      "outputs": [
        {
          "output_type": "stream",
          "name": "stdout",
          "text": [
            "Error: source.txt not found.\n"
          ]
        }
      ]
    },
    {
      "cell_type": "code",
      "source": [
        "try:\n",
        "  10/0\n",
        "except ZeroDivisionError:\n",
        "  print(\"cannot divide by zero\")\n",
        "finally:\n",
        "  print(\"this block will always execute\")"
      ],
      "metadata": {
        "colab": {
          "base_uri": "https://localhost:8080/"
        },
        "id": "_N0X7jy_-Lwq",
        "outputId": "82b8cf03-6bc9-4200-efce-af65d85afa5e"
      },
      "execution_count": null,
      "outputs": [
        {
          "output_type": "stream",
          "name": "stdout",
          "text": [
            "cannot divide by zero\n",
            "this block will always execute\n"
          ]
        }
      ]
    },
    {
      "cell_type": "code",
      "source": [
        "# 6\n",
        "import logging\n",
        "\n",
        "# Set up logging configuration\n",
        "logging.basicConfig(filename='error_log.txt',\n",
        "                    level=logging.ERROR,\n",
        "                    format='%(asctime)s - %(levelname)s - %(message)s')\n",
        "\n",
        "def divide(a, b):\n",
        "    try:\n",
        "        result = a / b\n",
        "        return result\n",
        "    except ZeroDivisionError as e:\n",
        "        logging.error(f\"Error: Division by zero! {e}\")\n",
        "        print(\"Cannot divide by zero!\")\n",
        "\n",
        "# Test the function with division by zero\n",
        "divide(10, 0)\n"
      ],
      "metadata": {
        "colab": {
          "base_uri": "https://localhost:8080/"
        },
        "id": "DQG1-fne-vLT",
        "outputId": "4e98bf1f-cfe6-40e0-a5ee-bbcdf8fe0138"
      },
      "execution_count": null,
      "outputs": [
        {
          "output_type": "stream",
          "name": "stderr",
          "text": [
            "ERROR:root:Error: Division by zero! division by zero\n"
          ]
        },
        {
          "output_type": "stream",
          "name": "stdout",
          "text": [
            "Cannot divide by zero!\n"
          ]
        }
      ]
    },
    {
      "cell_type": "code",
      "source": [
        "#7\n",
        "import logging\n",
        "\n",
        "# Set up logging configuration\n",
        "logging.basicConfig(filename='app_log.txt',\n",
        "                    level=logging.DEBUG,  # Set the root logger to capture all levels from DEBUG and higher\n",
        "                    format='%(asctime)s - %(levelname)s - %(message)s')\n",
        "\n",
        "# Log messages at different levels\n",
        "logging.info(\"This is an info message.\")\n",
        "logging.warning(\"This is a warning message.\")\n",
        "logging.error(\"This is an error message.\")\n",
        "\n"
      ],
      "metadata": {
        "colab": {
          "base_uri": "https://localhost:8080/"
        },
        "id": "3Le4OScoAkGe",
        "outputId": "00d0e169-22d5-40bf-b42e-85d83e169ca4"
      },
      "execution_count": null,
      "outputs": [
        {
          "output_type": "stream",
          "name": "stderr",
          "text": [
            "WARNING:root:This is a warning message.\n",
            "ERROR:root:This is an error message.\n"
          ]
        }
      ]
    },
    {
      "cell_type": "code",
      "source": [
        "# 8\n",
        "try:\n",
        "  10/2\n",
        "except ZeroDivisionError:\n",
        "  print(\"cannot divide by zero\")\n",
        "else:\n",
        "  print(\"no exception occured\")\n"
      ],
      "metadata": {
        "id": "uuhvvuF2BLCo",
        "colab": {
          "base_uri": "https://localhost:8080/"
        },
        "outputId": "e169a57a-2f2e-42e2-d004-c2fdb4c2292b"
      },
      "execution_count": null,
      "outputs": [
        {
          "output_type": "stream",
          "name": "stdout",
          "text": [
            "no exception occured\n"
          ]
        }
      ]
    },
    {
      "cell_type": "code",
      "source": [
        "try:\n",
        "    num = int(input(\"Enter a number: \"))\n",
        "    result = 10 / num\n",
        "except ZeroDivisionError:\n",
        "    print(\"Error: Cannot divide by zero.\")\n",
        "except ValueError:\n",
        "    print(\"Error: Invalid input, please enter a number.\")\n"
      ],
      "metadata": {
        "id": "w3KeyAD6CFDs",
        "colab": {
          "base_uri": "https://localhost:8080/"
        },
        "outputId": "cbac8ae0-ae4e-41ef-cb69-5356c3154406"
      },
      "execution_count": null,
      "outputs": [
        {
          "output_type": "stream",
          "name": "stdout",
          "text": [
            "Enter a number: \"5\"\n",
            "Error: Invalid input, please enter a number.\n"
          ]
        }
      ]
    },
    {
      "cell_type": "code",
      "source": [
        "# 9\n",
        "with open (\"example.txt\",\"w\")as f:\n",
        "  f.write(\"hello! welcome to python\\n\")\n",
        "  f.write(\"have a nice day\\n\")"
      ],
      "metadata": {
        "id": "Du7iaL5SC9zd"
      },
      "execution_count": null,
      "outputs": []
    },
    {
      "cell_type": "code",
      "source": [
        "with open (\"example.txt\",\"r\")as f:\n",
        "  print(f.read())"
      ],
      "metadata": {
        "colab": {
          "base_uri": "https://localhost:8080/"
        },
        "id": "aK42arEPE51C",
        "outputId": "01dfded9-32d2-49e3-c0d0-59ba569703af"
      },
      "execution_count": null,
      "outputs": [
        {
          "output_type": "stream",
          "name": "stdout",
          "text": [
            "hello! welcome to python\n",
            "have a nice day\n",
            "\n"
          ]
        }
      ]
    },
    {
      "cell_type": "code",
      "source": [
        "file_lines = []\n",
        "with open(\"example.txt\", \"r\") as file:\n",
        "    for line in file:\n",
        "        file_lines.append(line.strip())\n",
        "\n",
        "print(file_lines)\n"
      ],
      "metadata": {
        "colab": {
          "base_uri": "https://localhost:8080/"
        },
        "id": "Mg6tIW2yFNHj",
        "outputId": "3af57b43-f26b-4dd7-d57f-59c5823bd175"
      },
      "execution_count": null,
      "outputs": [
        {
          "output_type": "stream",
          "name": "stdout",
          "text": [
            "['hello! welcome to python', 'have a nice day']\n"
          ]
        }
      ]
    },
    {
      "cell_type": "code",
      "source": [
        "#10\n",
        "with open(\"example.txt\",\"a\")as f:\n",
        "  f.write(\"i am learning pyhton\\n\")\n"
      ],
      "metadata": {
        "id": "u8JDeytRGCiQ"
      },
      "execution_count": null,
      "outputs": []
    },
    {
      "cell_type": "code",
      "source": [
        "with open(\"example.txt\",\"r\")as f:\n",
        "  print(f.read())"
      ],
      "metadata": {
        "colab": {
          "base_uri": "https://localhost:8080/"
        },
        "id": "ZR4XWH8zGYdn",
        "outputId": "61d6c08a-3633-4ea9-9ae7-4c7b6f6948ae"
      },
      "execution_count": null,
      "outputs": [
        {
          "output_type": "stream",
          "name": "stdout",
          "text": [
            "hello! welcome to python\n",
            "have a nice day\n",
            "i am learning pyhton\n",
            "\n"
          ]
        }
      ]
    },
    {
      "cell_type": "code",
      "source": [
        "file_lines = []\n",
        "with open(\"example.txt\", \"r\") as file:\n",
        "    for line in file:\n",
        "        file_lines.append(line.strip())\n",
        "\n",
        "print(file_lines)"
      ],
      "metadata": {
        "colab": {
          "base_uri": "https://localhost:8080/"
        },
        "id": "gI1e-t6hGzD8",
        "outputId": "6c1385ef-6762-40f9-e0a8-97a491b8bcb4"
      },
      "execution_count": null,
      "outputs": [
        {
          "output_type": "stream",
          "name": "stdout",
          "text": [
            "['hello! welcome to python', 'have a nice day', 'hello! welcome to python', 'have a nice day', 'i am learning pyhton']\n"
          ]
        }
      ]
    },
    {
      "cell_type": "code",
      "source": [
        "\n",
        "# 11\n",
        "try:\n",
        "  my_dict={\"name\":\"akanksha\",\n",
        "           \"subject\":\"python\"}\n",
        "  print(my_dict[\"age\"])\n",
        "except KeyError:\n",
        "  print(\"key error\")\n"
      ],
      "metadata": {
        "colab": {
          "base_uri": "https://localhost:8080/"
        },
        "id": "QCDsdILBG_G4",
        "outputId": "e9f8dcbb-2e20-4494-e966-3c58b280df71"
      },
      "execution_count": null,
      "outputs": [
        {
          "output_type": "stream",
          "name": "stdout",
          "text": [
            "key error\n"
          ]
        }
      ]
    },
    {
      "cell_type": "code",
      "source": [
        "# 12\n",
        "try:\n",
        "  10/2\n",
        "except ZeroDivisionError:\n",
        "  print(\"cannot divide by zero\")\n",
        "else:\n",
        "  print(\"no exception occured\")"
      ],
      "metadata": {
        "colab": {
          "base_uri": "https://localhost:8080/"
        },
        "id": "2Ie1WOV5JL18",
        "outputId": "b430a3ea-8beb-44ee-d2c5-c2282642d219"
      },
      "execution_count": null,
      "outputs": [
        {
          "output_type": "stream",
          "name": "stdout",
          "text": [
            "no exception occured\n"
          ]
        }
      ]
    },
    {
      "cell_type": "code",
      "source": [
        "try:\n",
        "  num=int(input(\"enter your number\"))\n",
        "  result=10/num\n",
        "  print(num)\n",
        "except ZeroDivisionError:\n",
        "  print(\"cannot divide by zero\")\n",
        "except ValueError:\n",
        "  print(\"invalid input\")"
      ],
      "metadata": {
        "colab": {
          "base_uri": "https://localhost:8080/"
        },
        "id": "8uSDCcT5KOQn",
        "outputId": "3adfd7d2-4d7e-43fc-af39-ed21ec3f130f"
      },
      "execution_count": null,
      "outputs": [
        {
          "output_type": "stream",
          "name": "stdout",
          "text": [
            "enter your number\"5\"\n",
            "invalid input\n"
          ]
        }
      ]
    },
    {
      "cell_type": "code",
      "source": [
        "# 13\n",
        "# we can check if a file exists before attempting to read it in Python using the os.path.exists()\n",
        "import os\n",
        "file_path=\"example.txt\"\n",
        "if os.path.exists(file_path):\n",
        "  with open(\"example.txt\",\"r\")as f:\n",
        "    print(f.read())\n",
        "else:\n",
        "  print(\"file does not exist\")"
      ],
      "metadata": {
        "colab": {
          "base_uri": "https://localhost:8080/"
        },
        "id": "UjzTM2uHKZmH",
        "outputId": "5c0cbf2e-aaa9-40ed-fd1b-734fbf168f53"
      },
      "execution_count": null,
      "outputs": [
        {
          "output_type": "stream",
          "name": "stdout",
          "text": [
            "hello! welcome to python\n",
            "have a nice day\n",
            "i am learning pyhton\n",
            "\n"
          ]
        }
      ]
    },
    {
      "cell_type": "code",
      "source": [
        "# 14\n",
        "def read_and_print_file(filename):\n",
        "    \"\"\"Reads and prints the content of a file, handling the case when the file is empty.\"\"\"\n",
        "    try:\n",
        "        with open(filename, 'r') as file:\n",
        "            content = file.read()\n",
        "            if content.strip():\n",
        "                print(\"File Content:\")\n",
        "                print(content)\n",
        "            else:\n",
        "                print(\"The file is empty.\")\n",
        "    except FileNotFoundError:\n",
        "        print(\"Error: The file does not exist.\")\n",
        "    except Exception as e:\n",
        "        print(f\"An unexpected error occurred: {e}\")\n",
        "\n",
        "# Example usage\n",
        "if __name__ == \"__main__\":\n",
        "    filename = \"example.txt\"  # Change this to your file name\n",
        "    read_and_print_file(filename)\n",
        "\n"
      ],
      "metadata": {
        "id": "kSOVCxOJL4us",
        "colab": {
          "base_uri": "https://localhost:8080/"
        },
        "outputId": "21fec02a-a6dd-42c4-e10f-b4a23eb57a46"
      },
      "execution_count": null,
      "outputs": [
        {
          "output_type": "stream",
          "name": "stdout",
          "text": [
            "Error: The file does not exist.\n"
          ]
        }
      ]
    },
    {
      "cell_type": "code",
      "source": [
        "#15\n",
        "import logging\n",
        "from logging.handlers import RotatingFileHandler\n",
        "\n",
        "# Configure logging with rotation\n",
        "log_file = \"app.log\"\n",
        "log_handler = RotatingFileHandler(log_file, maxBytes=1_000_000, backupCount=3)  # Rotate after 1MB, keep 3 backups\n",
        "\n",
        "logging.basicConfig(\n",
        "    level=logging.INFO,\n",
        "    format=\"%(asctime)s - %(levelname)s - %(message)s\",\n",
        "    handlers=[log_handler]\n",
        ")\n",
        "\n",
        "\n"
      ],
      "metadata": {
        "id": "7jVQ7VZQwVd5"
      },
      "execution_count": null,
      "outputs": []
    },
    {
      "cell_type": "code",
      "source": [
        "#19\n",
        "my_list = [1, 2, 3]\n",
        "my_dict = {\"a\": 10, \"b\": 20}\n",
        "try:\n",
        "  print(my_list[5])\n",
        "  print(my_dict[\"c\"])\n",
        "except IndexError:\n",
        "        print(\"Error: List index out of range.\")\n",
        "except KeyError:\n",
        "        print(\"Error: Dictionary key not found.\")\n",
        "\n"
      ],
      "metadata": {
        "colab": {
          "base_uri": "https://localhost:8080/"
        },
        "id": "158J9N0Nym-r",
        "outputId": "1417bc20-d0e5-48b5-d524-eff4ee8b5fe6"
      },
      "execution_count": null,
      "outputs": [
        {
          "output_type": "stream",
          "name": "stdout",
          "text": [
            "Error: List index out of range.\n"
          ]
        }
      ]
    },
    {
      "cell_type": "code",
      "source": [
        "#19\n",
        "my_list = [1, 2, 3]\n",
        "my_dict = {\"a\": 10, \"b\": 20}\n",
        "try:\n",
        "  print(my_dict[\"c\"])\n",
        "except IndexError:\n",
        "        print(\"Error: List index out of range.\")\n",
        "except KeyError:\n",
        "        print(\"Error: Dictionary key not found.\")\n",
        "\n"
      ],
      "metadata": {
        "colab": {
          "base_uri": "https://localhost:8080/"
        },
        "id": "3TS3zCHxzlTi",
        "outputId": "7d94f8cf-1e05-4634-c387-2a99c004995c"
      },
      "execution_count": null,
      "outputs": [
        {
          "output_type": "stream",
          "name": "stdout",
          "text": [
            "Error: Dictionary key not found.\n"
          ]
        }
      ]
    },
    {
      "cell_type": "code",
      "source": [
        "#20\n",
        "with open (\"practice.txt\",\"w\")as f:\n",
        "  f.write(\"this is a sample file\\n\")\n",
        "  f.write(\"this is my first line\\n\")\n",
        "  f.write(\"this is my third line\\n\")"
      ],
      "metadata": {
        "id": "rsRDeDC02uu6"
      },
      "execution_count": null,
      "outputs": []
    },
    {
      "cell_type": "code",
      "source": [
        "try:\n",
        "  with open(\"practice.txt\",'r') as file:  # Open file in read mode\n",
        "            content = file.read()  # Read the entire file\n",
        "            print(content if content.strip() else \"The file is empty.\")\n",
        "except FileNotFoundError:\n",
        "        print(\"Error: The file does not exist.\")"
      ],
      "metadata": {
        "colab": {
          "base_uri": "https://localhost:8080/"
        },
        "id": "qG7q55iC3az7",
        "outputId": "1be0acb3-6c90-49f2-a039-3fe6a0dfae1f"
      },
      "execution_count": null,
      "outputs": [
        {
          "output_type": "stream",
          "name": "stdout",
          "text": [
            "this is a sample file\n",
            "this is my first line\n",
            "this is my third line\n",
            "\n"
          ]
        }
      ]
    },
    {
      "cell_type": "code",
      "source": [
        "#21\n",
        "with open (\"file.txt\",\"w\")as f:\n",
        "  f.write(\"hello world\\n\")\n",
        "  f.write(\"i am learning pyhton\\n\")\n",
        "  f.write(\"pyhton is interesting\")"
      ],
      "metadata": {
        "id": "8TwbBrLz4a4c"
      },
      "execution_count": null,
      "outputs": []
    },
    {
      "cell_type": "code",
      "source": [
        "with open (\"file.txt\",\"r\")as f:\n",
        " data=f.read()\n",
        " print(data)"
      ],
      "metadata": {
        "colab": {
          "base_uri": "https://localhost:8080/"
        },
        "id": "plmmYsMN5Apy",
        "outputId": "d2b2c6dc-fa19-4214-a068-05896a4add97"
      },
      "execution_count": null,
      "outputs": [
        {
          "output_type": "stream",
          "name": "stdout",
          "text": [
            "hello world\n",
            "i am learning pyhton\n",
            "pyhton is interesting\n"
          ]
        }
      ]
    },
    {
      "cell_type": "code",
      "source": [
        "new_data=data.count(\"interesting\")\n",
        "print(new_data)"
      ],
      "metadata": {
        "colab": {
          "base_uri": "https://localhost:8080/"
        },
        "id": "M2A6iqvG5KUM",
        "outputId": "b0019a83-a7ac-4492-cf1f-71735afacbe9"
      },
      "execution_count": null,
      "outputs": [
        {
          "output_type": "stream",
          "name": "stdout",
          "text": [
            "1\n"
          ]
        }
      ]
    },
    {
      "cell_type": "code",
      "source": [
        "#22\n",
        "def read_file(filename=\"practice.txt\"):\n",
        "    \"\"\"Reads and prints file content only if it is not empty.\"\"\"\n",
        "    try:\n",
        "        with open(filename, 'r') as file:\n",
        "            content = file.read()\n",
        "            if not content.strip():\n",
        "                print(\"The file is empty.\")\n",
        "            else:\n",
        "                print(content)\n",
        "    except FileNotFoundError:\n",
        "        print(\"Error: The file does not exist.\")\n",
        "read_file()\n",
        "\n",
        "\n",
        "\n"
      ],
      "metadata": {
        "colab": {
          "base_uri": "https://localhost:8080/"
        },
        "id": "vfHDs5kw8gsV",
        "outputId": "6c67b2b3-16c2-42fe-9ddf-f466e8b23968"
      },
      "execution_count": null,
      "outputs": [
        {
          "output_type": "stream",
          "name": "stdout",
          "text": [
            "this is a sample file\n",
            "this is my first line\n",
            "this is my third line\n",
            "\n"
          ]
        }
      ]
    },
    {
      "cell_type": "code",
      "source": [
        "# Define a list of numbers\n",
        "numbers = [1, 2, 3, 4, 5, 6, 7, 8, 9, 10]\n",
        "\n",
        "# Specify the file name\n",
        "file_name = \"numbers.txt\"\n",
        "\n",
        "# Open the file in write mode and write numbers to it\n",
        "with open(file_name, \"w\") as file:\n",
        "    for number in numbers:\n",
        "        file.write(f\"{number}\\n\")\n",
        "\n",
        "print(f\"Numbers have been written to {file_name}\")\n"
      ],
      "metadata": {
        "colab": {
          "base_uri": "https://localhost:8080/"
        },
        "id": "GdrE6MZm2zZa",
        "outputId": "f427626e-90ee-4823-b989-4d37547df232"
      },
      "execution_count": 3,
      "outputs": [
        {
          "output_type": "stream",
          "name": "stdout",
          "text": [
            "Numbers have been written to numbers.txt\n"
          ]
        }
      ]
    }
  ]
}